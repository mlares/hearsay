{
 "cells": [
  {
   "cell_type": "code",
   "execution_count": 1,
   "metadata": {
    "collapsed": true
   },
   "outputs": [],
   "source": [
    "import numpy as np\n",
    "import random\n",
    "import pandas as pd\n",
    "from matplotlib import pyplot as plt\n",
    "%matplotlib inline\n",
    "import seaborn as sns\n",
    "from scipy import spatial as sp"
   ]
  },
  {
   "cell_type": "markdown",
   "metadata": {},
   "source": [
    "Generate a random galaxy: locations of planets that will eventually support intelligent life"
   ]
  },
  {
   "cell_type": "code",
   "execution_count": 3,
   "metadata": {
    "collapsed": true
   },
   "outputs": [],
   "source": [
    "Nstars = 200\n",
    "\n",
    "GHZ_inner = 20000.\n",
    "GHZ_outer = 60000.\n",
    "\n",
    "r = np.sqrt(np.random.rand(Nstars)*GHZ_outer**2 + GHZ_inner**2)\n",
    "o = np.random.rand(Nstars)*2.*np.pi\n",
    "\n",
    "x = r * np.cos(o)\n",
    "y = r * np.sin(o)\n",
    "l = np.zeros(Nstars)  # 1:active civilization, 0: inactive/inhabited star\n",
    "t_start = np.zeros(Nstars)\n",
    "t_end = np.zeros(Nstars)\n",
    "\n",
    "M = np.column_stack([x, y])"
   ]
  },
  {
   "cell_type": "code",
   "execution_count": 6,
   "metadata": {
    "collapsed": false
   },
   "outputs": [],
   "source": [
    "M?"
   ]
  },
  {
   "cell_type": "code",
   "execution_count": 12,
   "metadata": {
    "collapsed": true
   },
   "outputs": [],
   "source": [
    "M = [0, 0]"
   ]
  },
  {
   "cell_type": "code",
   "execution_count": 14,
   "metadata": {
    "collapsed": false
   },
   "outputs": [],
   "source": [
    "M = np.vstack([M, [1,1]])"
   ]
  },
  {
   "cell_type": "code",
   "execution_count": 19,
   "metadata": {
    "collapsed": false
   },
   "outputs": [
    {
     "data": {
      "text/plain": [
       "array([1, 1])"
      ]
     },
     "execution_count": 19,
     "metadata": {},
     "output_type": "execute_result"
    }
   ],
   "source": [
    "M[1]"
   ]
  },
  {
   "cell_type": "code",
   "execution_count": null,
   "metadata": {
    "collapsed": true
   },
   "outputs": [],
   "source": []
  },
  {
   "cell_type": "code",
   "execution_count": 3,
   "metadata": {
    "collapsed": false
   },
   "outputs": [
    {
     "data": {
      "image/png": "[encoded data removed]",
      "text/plain": [
       "<matplotlib.figure.Figure at 0x7f8432e8ebd0>"
      ]
     },
     "metadata": {},
     "output_type": "display_data"
    }
   ],
   "source": [
    "fig = plt.figure(figsize=(6,6))\n",
    "plt.rcParams['legend.fontsize'] = 10   \n",
    "\n",
    "plt.scatter(x, y, c='blue', alpha=0.75, edgecolors=None, s=7 )\n",
    "plt.show()"
   ]
  },
  {
   "cell_type": "markdown",
   "metadata": {},
   "source": [
    "1. draw a planet and activate message emmision and listening\n",
    "2. draw activity time span\n",
    "3. compute lightning sphere\n",
    "4. buscar si hay algún otro planeta activo dentro de la esfera"
   ]
  },
  {
   "cell_type": "code",
   "execution_count": 47,
   "metadata": {
    "collapsed": true
   },
   "outputs": [],
   "source": [
    "M = np.column_stack([x, y])\n",
    "tree = sp.cKDTree( data=M ) "
   ]
  },
  {
   "cell_type": "code",
   "execution_count": 48,
   "metadata": {
    "collapsed": true
   },
   "outputs": [],
   "source": [
    "acc = np.zeros(Nstars)  # 1:active communicating civilization, 0: inactive/inhabited star\n",
    "t_a = np.zeros(Nstars) # awakning\n",
    "t_s = np.zeros(Nstars) # stationary\n",
    "t_b = np.zeros(Nstars) # blackout"
   ]
  },
  {
   "cell_type": "markdown",
   "metadata": {},
   "source": [
    "Simulation (single step):\n",
    "\n",
    "variable \"t\" is time.\n",
    "\n",
    "Parameters:\n",
    "* tau = Mean time between emergent civilizations\n",
    "* tL = Mean lifetime of a civilization"
   ]
  },
  {
   "cell_type": "code",
   "execution_count": 49,
   "metadata": {
    "collapsed": false
   },
   "outputs": [
    {
     "data": {
      "text/plain": [
       "array([ 34678.20040889])"
      ]
     },
     "execution_count": 49,
     "metadata": {},
     "output_type": "execute_result"
    }
   ],
   "source": [
    "t = 0.\n",
    "tau = 5000 #yr, mean lifetime of a ETI\n",
    "lambd = 50000.  #yr, mean time until next CETI appear\n",
    "D = 5000.  # light year, maximum distance of detectable signals\n",
    "np.random.exponential(lambd, 1)"
   ]
  },
  {
   "cell_type": "code",
   "execution_count": 50,
   "metadata": {
    "collapsed": false
   },
   "outputs": [
    {
     "data": {
      "text/plain": [
       "[1, 91, 114, 176, 58]"
      ]
     },
     "execution_count": 50,
     "metadata": {},
     "output_type": "execute_result"
    }
   ],
   "source": [
    "i = np.random.choice(range(Nstars))\n",
    "idx = tree.query_ball_point( [x[i],y[i]] , D)\n",
    "idx.pop(idx.index(i))\n",
    "idx"
   ]
  },
  {
   "cell_type": "code",
   "execution_count": 51,
   "metadata": {
    "collapsed": false
   },
   "outputs": [
    {
     "data": {
      "text/plain": [
       "array([ 0.,  0.,  0.,  0.,  0.])"
      ]
     },
     "execution_count": 51,
     "metadata": {},
     "output_type": "execute_result"
    }
   ],
   "source": [
    "l[idx]"
   ]
  },
  {
   "cell_type": "markdown",
   "metadata": {},
   "source": [
    "### Ahora recorremos el tiempo:"
   ]
  },
  {
   "cell_type": "code",
   "execution_count": 52,
   "metadata": {
    "collapsed": true
   },
   "outputs": [],
   "source": [
    "t = 0.  # initializea\n",
    "tau = 5000 #yr, mean lifetime of a ETI\n",
    "lambd = 50000.  #yr, mean time until next CETI appear\n",
    "D = 5000.  # light year, maximum distance of detectable signals\n",
    "\n",
    "tmax = 1000000.\n",
    "\n",
    "ts = []\n",
    "\n",
    "while (t<tmax):\n",
    "    t_on = np.random.exponential(lambd, 1)\n",
    "    t_off = np.random.exponential(tau, 1)\n",
    "    tnew = min(t_on, t_off)\n",
    "    t = t + tnew\n",
    "    ts.append(t)"
   ]
  },
  {
   "cell_type": "code",
   "execution_count": 53,
   "metadata": {
    "collapsed": false
   },
   "outputs": [
    {
     "data": {
      "image/png": "[encoded data removed]",
      "text/plain": [
       "<matplotlib.figure.Figure at 0x7f8430774050>"
      ]
     },
     "metadata": {},
     "output_type": "display_data"
    }
   ],
   "source": [
    "plt.plot(ts)\n",
    "plt.show()"
   ]
  },
  {
   "cell_type": "code",
   "execution_count": null,
   "metadata": {
    "collapsed": true
   },
   "outputs": [],
   "source": []
  },
  {
   "cell_type": "code",
   "execution_count": null,
   "metadata": {
    "collapsed": true
   },
   "outputs": [],
   "source": []
  },
  {
   "cell_type": "code",
   "execution_count": null,
   "metadata": {
    "collapsed": true
   },
   "outputs": [],
   "source": []
  },
  {
   "cell_type": "code",
   "execution_count": null,
   "metadata": {
    "collapsed": true
   },
   "outputs": [],
   "source": []
  },
  {
   "cell_type": "code",
   "execution_count": 54,
   "metadata": {
    "collapsed": true
   },
   "outputs": [],
   "source": [
    "t = 0.  # initializea\n",
    "tau = 5000 #yr, mean lifetime of a ETI\n",
    "lambd = 50000.  #yr, mean time until next CETI appear\n",
    "D = 5000.  # light year, maximum distance of detectable signals\n",
    "\n",
    "tmax = 1000000.  # maximo tiempo que dura la simulación\n",
    "\n",
    "#en el lazo:\n",
    "# CETI: communicating extraterrestrial intelligence\n",
    "# MDCC: maximum distance for communication capacity\n",
    "# t_on: salto de tiempo hasta que aparece una nueva CETI\n",
    "# t_off: tiempo en el que desaparece una CETI del conjunto de las activas\n",
    "# t_sph: tiempo en el que algunas de las CETI activas alcanza la maxima distancia de transmisión"
   ]
  },
  {
   "cell_type": "markdown",
   "metadata": {},
   "source": [
    "Hay que calcular:\n",
    "    \n",
    "    1. Los próximos tiempos de emergencia de CETI\n",
    "    2. los próximos tiempos en los que las CETI activas alcanzan la esfera de máximo alcance\n",
    "    3. los próximos tiempos en los que las CETI activas desaparecen\n",
    "\n",
    "Distinguimos los siguientes casos:\n",
    "    \n",
    "    1. El proximo evento es que emerge una nueva CETI\n",
    "        - actualizar la variable t\n",
    "        - agregar a la máscara\n",
    "        - eliminar de la lista de candidatos\n",
    "        - sortear la duración\n",
    "    2. el próximo evento es que una CETI alcanza la esfera\n",
    "        - actualizar la variable t\n",
    "    3. el próximo evento es que una CETI desaparece\n",
    "        - actualizar la variable t"
   ]
  },
  {
   "cell_type": "code",
   "execution_count": 96,
   "metadata": {
    "collapsed": false
   },
   "outputs": [],
   "source": [
    "acc = np.array([False]*Nstars)    # True:active communicating civilization, False: inactive/inhabited star\n",
    "t_a = np.zeros(Nstars)  # awakning\n",
    "t_s = np.zeros(Nstars)  # stationary\n",
    "t_b = np.zeros(Nstars)  # blackout\n",
    "t_start = np.zeros(Nstars)\n",
    "t_end = np.zeros(Nstars)\n",
    "\n",
    "acc[21] = True"
   ]
  },
  {
   "cell_type": "code",
   "execution_count": 97,
   "metadata": {
    "collapsed": false
   },
   "outputs": [],
   "source": [
    "t = 0.\n",
    "ts = []\n",
    "t_last_CETI = 0."
   ]
  },
  {
   "cell_type": "code",
   "execution_count": 98,
   "metadata": {
    "collapsed": true
   },
   "outputs": [],
   "source": [
    "def update_awakening(t, t_s_min_idx, t_b_min_idx):\n",
    "    \n",
    "    global t_last_CETI\n",
    "    global t_start\n",
    "    global acc\n",
    "    \n",
    "    t_last_CETI = t\n",
    "    i = np.random.choice(range(Nstars))\n",
    "    t_start[i] = t\n",
    "    acc[i] = True\n",
    "    print 'wide awake!', t\n",
    "    \n",
    "def update_sphere(t, t_s_min_idx, t_b_min_idx):\n",
    "    print 'sphere!'\n",
    "    \n",
    "def update_blackout(t, t_s_min_idx, t_b_min_idx):\n",
    "    \n",
    "    global t_end\n",
    "    \n",
    "    t_end[t_b_min_idx] = t\n",
    "    print 'blackout'\n",
    "    \n",
    "options = {0 : update_awakening, 1 : update_sphere, 2 : update_blackout}"
   ]
  },
  {
   "cell_type": "code",
   "execution_count": 99,
   "metadata": {
    "collapsed": false
   },
   "outputs": [
    {
     "name": "stdout",
     "output_type": "stream",
     "text": [
      "[[ 15519.72189108]\n",
      " [     0.        ]\n",
      " [     0.        ]]\n",
      "wide awake! [ 15519.72189108]\n"
     ]
    }
   ],
   "source": [
    "t = 0.\n",
    "ts = []\n",
    "t_last_CETI = 0.\n",
    "\n",
    "#while (t<tmax):\n",
    "while (t<2):\n",
    "    \n",
    "    # sortear el tiempo hasta que aparece la próxima CETI\n",
    "    t_on_next = np.random.exponential(lambd, 1)\n",
    "    t_a_min = t_last_CETI + t_on_next    \n",
    "\n",
    "    # buscar el proximo tiempo en que se alcanza la esfera\n",
    "    # completar la máscara con la lista de pares en contacto causal\n",
    "    \n",
    "    T_s = np.ma.array(t_s, mask=~acc)\n",
    "    t_s_min_idx = np.ma.where(T_s == T_s.min())\n",
    "    t_s_min = t_s[t_s_min_idx]\n",
    "\n",
    "    # buscar el proximo tiempo de desaparicion de una CETI activa\n",
    "    # completar la máscara con la lista de pares en contacto causal\n",
    "    T_b = np.ma.array(t_b, mask=~acc)\n",
    "    t_b_min_idx = np.ma.where(T_b == T_b.min())\n",
    "    t_b_min = t_b[t_b_min_idx]\n",
    "    \n",
    "    mins = np.array([t_a_min, t_s_min, t_b_min])\n",
    "    \n",
    "    print mins\n",
    "    filt = mins > 0.\n",
    "    mn = np.ma.array(mins, mask=~filt)\n",
    "    mn_idx = np.ma.where(mn == mn.min())[0][0]\n",
    "    \n",
    "    t = t + mins[mn_idx]\n",
    "    ts.append(t)\n",
    "    \n",
    "    t = options[mn_idx](t, t_s_min_idx, t_b_min_idx)\n",
    "    "
   ]
  },
  {
   "cell_type": "code",
   "execution_count": null,
   "metadata": {
    "collapsed": true
   },
   "outputs": [],
   "source": []
  },
  {
   "cell_type": "code",
   "execution_count": null,
   "metadata": {
    "collapsed": true
   },
   "outputs": [],
   "source": []
  },
  {
   "cell_type": "code",
   "execution_count": null,
   "metadata": {
    "collapsed": true
   },
   "outputs": [],
   "source": []
  },
  {
   "cell_type": "code",
   "execution_count": null,
   "metadata": {
    "collapsed": true
   },
   "outputs": [],
   "source": []
  },
  {
   "cell_type": "code",
   "execution_count": 11,
   "metadata": {
    "collapsed": true
   },
   "outputs": [],
   "source": [
    "    #______________________________________________________________\n",
    "    # CASO 1:  el proximo evento es que aparece una CETI\n",
    "    \n",
    "    # guardar el tiempo del ultimo awakening\n",
    "    t_last_CETI = t + t_on\n",
    "    \n",
    "    # sortear el lugar en donde aparece\n",
    "    i = np.random.choice(range(Nstars))\n",
    "    # marcarla como CETI activa\n",
    "    l[i] = 1\n",
    "    \n",
    "    # sortear el tiempo que permanecerá activa\n",
    "    t_off = np.random.exponential(tau, 1)\n",
    "    # guardar el tiempo de aparición y desaparición\n",
    "    t_start[i] = t\n",
    "    t_end[i] = t + t_off\n",
    "    \n",
    "    # actualizar el tiempo: para eso buscar el menor salto entre\n",
    "    #   t+t_on \n",
    "    #   t_off de todas las CETI activas\n",
    "    #   t_sph de todas las CETI activas\n",
    "\n",
    "    #______________________________________________________________\n",
    "    # CASO 2:  el proximo evento desaparece una CETI\n",
    "\n",
    "    #______________________________________________________________\n",
    "    # CASO 3:  el proximo evento es que una CETI alcanza su MDCC\n",
    "    \n",
    "    \n",
    "    \n",
    "    \n",
    "    tnew = min(t_on, t_off)\n",
    "    t = t + tnew\n",
    "    ts.append(t)\n",
    "\n",
    "    idx = tree.query_ball_point( [x[i],y[i]] , D)\n",
    "    idx.pop(idx.index(i))\n",
    "    \n",
    "    \n",
    "    \n",
    "    # saltar en el tiempo\n",
    "    t = t + t_on"
   ]
  },
  {
   "cell_type": "code",
   "execution_count": null,
   "metadata": {
    "collapsed": true
   },
   "outputs": [],
   "source": []
  },
  {
   "cell_type": "code",
   "execution_count": null,
   "metadata": {
    "collapsed": true
   },
   "outputs": [],
   "source": []
  },
  {
   "cell_type": "code",
   "execution_count": null,
   "metadata": {
    "collapsed": true
   },
   "outputs": [],
   "source": []
  },
  {
   "cell_type": "code",
   "execution_count": null,
   "metadata": {
    "collapsed": true
   },
   "outputs": [],
   "source": []
  },
  {
   "cell_type": "code",
   "execution_count": null,
   "metadata": {
    "collapsed": true
   },
   "outputs": [],
   "source": []
  },
  {
   "cell_type": "code",
   "execution_count": null,
   "metadata": {
    "collapsed": true
   },
   "outputs": [],
   "source": []
  }
 ],
 "metadata": {
  "kernelspec": {
   "display_name": "Python 2",
   "language": "python",
   "name": "python2"
  },
  "language_info": {
   "codemirror_mode": {
    "name": "ipython",
    "version": 2
   },
   "file_extension": ".py",
   "mimetype": "text/x-python",
   "name": "python",
   "nbconvert_exporter": "python",
   "pygments_lexer": "ipython2",
   "version": "2.7.6"
  }
 },
 "nbformat": 4,
 "nbformat_minor": 2
}
