{
 "cells": [
  {
   "cell_type": "code",
   "execution_count": 1,
   "metadata": {
    "collapsed": true
   },
   "outputs": [],
   "source": [
    "import numpy as np\n",
    "import random\n",
    "import pandas as pd\n",
    "from matplotlib import pyplot as plt\n",
    "%matplotlib inline\n",
    "import seaborn as sns\n",
    "from scipy import spatial as sp"
   ]
  },
  {
   "cell_type": "markdown",
   "metadata": {},
   "source": [
    "Generate a random galaxy: locations of planets that will eventually support intelligent life"
   ]
  },
  {
   "cell_type": "code",
   "execution_count": 2,
   "metadata": {
    "collapsed": true
   },
   "outputs": [],
   "source": [
    "Nstars = 200\n",
    "\n",
    "GHZ_inner = 20000.\n",
    "GHZ_outer = 60000.\n",
    "\n",
    "r = np.sqrt(np.random.rand(Nstars)*GHZ_outer**2 + GHZ_inner**2)\n",
    "o = np.random.rand(Nstars)*2.*np.pi\n",
    "\n",
    "x = r * np.cos(o)\n",
    "y = r * np.sin(o)\n",
    "acc = np.array([False]*Nstars)    # True:active communicating civilization, False: inactive/inhabited star\n",
    "t_a = np.zeros(Nstars)  # awakning\n",
    "t_s = np.zeros(Nstars)  # stationary\n",
    "t_b = np.zeros(Nstars)  # blackout\n",
    "t_start = np.zeros(Nstars)\n",
    "t_end = np.zeros(Nstars)"
   ]
  },
  {
   "cell_type": "code",
   "execution_count": 3,
   "metadata": {
    "collapsed": true
   },
   "outputs": [],
   "source": [
    "t = 0.  # initializea\n",
    "tau = 5000 #yr, mean lifetime of a ETI\n",
    "lambd = 50000.  #yr, mean time until next CETI appear\n",
    "D = 5000.  # light year, maximum distance of detectable signals\n",
    "tmax = 1000000.  # maximo tiempo que dura la simulación"
   ]
  },
  {
   "cell_type": "code",
   "execution_count": null,
   "metadata": {
    "collapsed": true
   },
   "outputs": [],
   "source": [
    "acc[21] = True\n",
    "t = 0.\n",
    "ts = []\n",
    "t_last_CETI = 0."
   ]
  },
  {
   "cell_type": "code",
   "execution_count": null,
   "metadata": {
    "collapsed": true
   },
   "outputs": [],
   "source": [
    "def update_awakening(t, t_s_min_idx, t_b_min_idx):\n",
    "    \n",
    "    global t_last_CETI\n",
    "    global t_start\n",
    "    global acc\n",
    "    \n",
    "    t_last_CETI = t\n",
    "    i = np.random.choice(range(Nstars))\n",
    "    t_start[i] = t\n",
    "    t_s[i] = t + D\n",
    "    acc[i] = True\n",
    "    t = t + \n",
    "    print 'wide awake!', t\n",
    "    \n",
    "def update_sphere(t, t_s_min_idx, t_b_min_idx):\n",
    "    \n",
    "    print 'sphere!', t\n",
    "    \n",
    "def update_blackout(t, t_s_min_idx, t_b_min_idx):\n",
    "    \n",
    "    global t_end\n",
    "    \n",
    "    t_end[t_b_min_idx] = t\n",
    "    acc[t_b_min_idx] = False\n",
    "\n",
    "    print 'blackout', t\n",
    "    \n",
    "options = {0 : update_awakening, 1 : update_sphere, 2 : update_blackout}"
   ]
  },
  {
   "cell_type": "code",
   "execution_count": null,
   "metadata": {
    "collapsed": true
   },
   "outputs": [],
   "source": [
    "t = 0.\n",
    "ts = []\n",
    "t_last_CETI = 0.\n",
    "\n",
    "while (t<tmax):\n",
    "    \n",
    "    # sortear el tiempo hasta que aparece la próxima CETI\n",
    "    t_on_next = np.random.exponential(lambd, 1)\n",
    "    t_a_min = t_last_CETI + t_on_next    \n",
    "\n",
    "    # buscar el proximo tiempo en que se alcanza la esfera\n",
    "    # completar la máscara con la lista de pares en contacto causal    \n",
    "    T_s = np.ma.array(t_s, mask=~acc)\n",
    "    t_s_min_idx = np.ma.where(T_s == T_s.min())\n",
    "    t_s_min = t_s[t_s_min_idx]\n",
    "\n",
    "    # buscar el proximo tiempo de desaparicion de una CETI activa\n",
    "    # completar la máscara con la lista de pares en contacto causal\n",
    "    T_b = np.ma.array(t_b, mask=~acc)\n",
    "    t_b_min_idx = np.ma.where(T_b == T_b.min())\n",
    "    t_b_min = t_b[t_b_min_idx]\n",
    "    \n",
    "    mins = np.array([t_a_min, t_s_min, t_b_min])\n",
    "    \n",
    "    filt = mins > 0.\n",
    "    mn = np.ma.array(mins, mask=~filt)\n",
    "    mn_idx = np.ma.where(mn == mn.min())[0][0]\n",
    "        \n",
    "    #t = t + mins[mn_idx]\n",
    "    #ts.append(t)\n",
    "    #options[mn_idx](t, t_s_min_idx, t_b_min_idx)    "
   ]
  },
  {
   "cell_type": "code",
   "execution_count": null,
   "metadata": {
    "collapsed": true
   },
   "outputs": [],
   "source": []
  }
 ],
 "metadata": {
  "kernelspec": {
   "display_name": "Python 2",
   "language": "python",
   "name": "python2"
  },
  "language_info": {
   "codemirror_mode": {
    "name": "ipython",
    "version": 2
   },
   "file_extension": ".py",
   "mimetype": "text/x-python",
   "name": "python",
   "nbconvert_exporter": "python",
   "pygments_lexer": "ipython2",
   "version": "2.7.6"
  }
 },
 "nbformat": 4,
 "nbformat_minor": 2
}
