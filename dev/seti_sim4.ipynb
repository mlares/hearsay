{
 "cells": [
  {
   "cell_type": "code",
   "execution_count": 1,
   "metadata": {
    "collapsed": true
   },
   "outputs": [],
   "source": [
    "import numpy as np\n",
    "import random\n",
    "import pandas as pd\n",
    "from matplotlib import pyplot as plt\n",
    "%matplotlib inline\n",
    "import seaborn as sns\n",
    "from scipy import spatial as sp"
   ]
  },
  {
   "cell_type": "code",
   "execution_count": 2,
   "metadata": {
    "collapsed": true
   },
   "outputs": [],
   "source": [
    "# Node and Linked List Classes\n",
    "\n",
    "class Node:\n",
    "    def __init__(self,initdata):\n",
    "        self.data = initdata\n",
    "        self.next = None\n",
    "\n",
    "    def getData(self):\n",
    "        return self.data\n",
    "\n",
    "    def getNext(self):\n",
    "        return self.next\n",
    "\n",
    "    def setData(self,newdata):\n",
    "        self.data = newdata\n",
    "\n",
    "    def setNext(self,newnext):\n",
    "        self.next = newnext\n",
    "\n",
    "\n",
    "class OrderedList:\n",
    "    def __init__(self):\n",
    "        self.head = None\n",
    "\n",
    "    def search(self,item):\n",
    "        current = self.head\n",
    "        found = False\n",
    "        stop = False\n",
    "        while current != None and not found and not stop:\n",
    "            if current.getData() == item:\n",
    "                found = True\n",
    "            else:\n",
    "                if current.getData() > item:\n",
    "                    stop = True\n",
    "                else:\n",
    "                    current = current.getNext()\n",
    "\n",
    "        return found\n",
    "    \n",
    "    def show(self):\n",
    "        current = self.head\n",
    "        while current != None:\n",
    "            print current.getData()\n",
    "            current = current.getNext()        \n",
    "    \n",
    "    def add(self,item):\n",
    "        current = self.head\n",
    "        previous = None\n",
    "        stop = False\n",
    "        while current != None and not stop:\n",
    "            if current.getData() > item:\n",
    "                stop = True\n",
    "            else:\n",
    "                previous = current\n",
    "                current = current.getNext()\n",
    "\n",
    "        temp = Node(item)\n",
    "        if previous == None:\n",
    "            temp.setNext(self.head)\n",
    "            self.head = temp\n",
    "        else:\n",
    "            temp.setNext(current)\n",
    "            previous.setNext(temp)\n",
    "            \n",
    "    def remove_first(self):\n",
    "        self.head = self.head.getNext()\n",
    "            \n",
    "\n",
    "    def isEmpty(self):\n",
    "        return self.head == None\n",
    "\n",
    "    def size(self):\n",
    "        current = self.head\n",
    "        count = 0\n",
    "        while current != None:\n",
    "            count = count + 1\n",
    "            current = current.getNext()\n",
    "\n",
    "        return count"
   ]
  },
  {
   "cell_type": "markdown",
   "metadata": {},
   "source": [
    "### Fixed variables:"
   ]
  },
  {
   "cell_type": "code",
   "execution_count": 3,
   "metadata": {
    "collapsed": true
   },
   "outputs": [],
   "source": [
    "GHZ_inner     = 20000.  # radio interno de la zona galactica habitable, años luz\n",
    "GHZ_outer     = 60000.  # radio interno de la zona galactica habitable, años luz\n",
    "tau_awakening = 10000.  # tiempo medio, en años, que hay que esperar para que aparezca otra CETI en la galaxia\n",
    "tau_survive   = 5000.   # Tiempo medio, en años, durante el cual una CETI esta activa\n",
    "D_max         = 3000.   # Maxima distancia, en años luz, a la cual una CETI puede enviar o recibir mensajes"
   ]
  },
  {
   "cell_type": "markdown",
   "metadata": {},
   "source": [
    "### Simulation variables"
   ]
  },
  {
   "cell_type": "code",
   "execution_count": 4,
   "metadata": {
    "collapsed": false
   },
   "outputs": [],
   "source": [
    "# Inicializar listas de datos\n",
    "\n",
    "# lista de CETIs alguna vez activas: dictionary\n",
    "CETIs = dict()\n",
    "\n",
    "# lista de CETIs actualmente activas: ndarray\n",
    "CHATs = []\n",
    "\n",
    "# inicializacion del tiempo: scalar\n",
    "t_now = 0\n",
    "\n",
    "# inicializacion del ID: index\n",
    "ID = 0\n",
    "\n",
    "# lista de tiempos de eventos futuros: ordered list\n",
    "t_forthcoming = OrderedList()"
   ]
  },
  {
   "cell_type": "markdown",
   "metadata": {},
   "source": [
    "### CASO 1"
   ]
  },
  {
   "cell_type": "code",
   "execution_count": 5,
   "metadata": {
    "collapsed": true
   },
   "outputs": [],
   "source": [
    "CHATs = [[1,2],[3,4],[5,6]]"
   ]
  },
  {
   "cell_type": "code",
   "execution_count": 61,
   "metadata": {
    "collapsed": false
   },
   "outputs": [],
   "source": [
    "case = 1\n",
    "\n",
    "# actualizar el ID\n",
    "ID = ID + 1\n",
    "\n",
    "# sortear el lugar donde aparece dentro de la GHZ\n",
    "r = np.sqrt(random.random()*GHZ_outer**2 + GHZ_inner**2)\n",
    "o = random.random()*2.*np.pi\n",
    "x = r * np.cos(o)  # X position on the galactic plane\n",
    "y = r * np.sin(o)  # Y position on the galactic plane\n",
    "\n",
    "# sortear el tiempo de actividad\n",
    "t_active = np.random.exponential(tau_survive, 1)[0]\n",
    "t_hola = t_now\n",
    "t_chau = t_hola + t_active\n",
    "\n",
    "# agregar el tiempo de desaparición a la lista de tiempos\n",
    "next_event = [t_chau, ID, None, 2]\n",
    "t_forthcoming.add(next_event)\n",
    "\n",
    "# agregar la CETI a la lista histórica\n",
    "#CETIs[ID].append( [(x, y, t_hola, t_chau)] )\n",
    "CETIs[ID] = (x, y, t_hola, t_chau)\n",
    "\n",
    "# sortear el tiempo de aparición de la próxima CETI\n",
    "t_next_awakening = np.random.exponential(tau_awakening, 1)\n",
    "next_event = [t_next_awakening, ID+1, None, 1]\n",
    "t_forthcoming.add(next_event)\n",
    "\n",
    "try:\n",
    "    tree\n",
    "except NameError:\n",
    "    print 'No existe'\n",
    "else:\n",
    "    # calcular todas las CETIs dentro del radio\n",
    "    query_point = [x,y]\n",
    "    idx = tree.query_ball_point(query_point, r=D_max)\n",
    "        \n",
    "    query_point = [x,y]\n",
    "\n",
    "    for k in idx:\n",
    "        z = np.sqrt(((np.array(query_point) - np.array(CHATs[k]))**2).sum())\n",
    "        \n",
    "        # Agregar a t_forthcoming la lista de tiempos de contacto\n",
    "        \n",
    "        # 1.- Desde la recién agregada hacia las otras CETIs\n",
    "        z = t_now + z\n",
    "        next_event = [z, ID, k, 3]\n",
    "        t_forthcoming.add(next_event)\n",
    "\n",
    "        # 2.- Desde las otras CETIs hacia la reciés agregada\n",
    "        t_hola = CETIs[2][2]\n",
    "        t = z - t_hola\n",
    "        next_event = [t, ID, k, 3]\n",
    "        t_forthcoming.add(next_event)\n",
    "   \n",
    "    \n",
    "\n",
    "# agregar la CETI a la lista de CETIs activas\n",
    "# [ID, x, y, t_hola, t_chau]\n",
    "CHATs.append([x, y])\n",
    "\n",
    "# # rehacer el árbol\n",
    "tree = sp.cKDTree( data=CHATs ) \n",
    "\n",
    "# eliminar el tiempo actual\n",
    "t_forthcoming.remove_first()"
   ]
  },
  {
   "cell_type": "code",
   "execution_count": 29,
   "metadata": {
    "collapsed": false
   },
   "outputs": [
    {
     "name": "stdout",
     "output_type": "stream",
     "text": [
      "{1: (-36562.576732991511, 19936.065613787447, 0, 4322.2760697163203), 2: (-14333.079369297115, 44014.54850710382, 0, 1576.6474022002699)}\n",
      "[[-36562.576732991511, 19936.065613787447]]\n",
      "[array([ 2520.84758128]), 2, None, 1]\n",
      "[array([ 3615.83632484]), 2, None, 1]\n",
      "[4322.2760697163203, 1, None, 2]\n",
      "[array([ 31835.39080199]), 3, None, 1]\n"
     ]
    }
   ],
   "source": [
    "print CETIs\n",
    "print CHATs\n",
    "t_forthcoming.show()"
   ]
  },
  {
   "cell_type": "markdown",
   "metadata": {},
   "source": [
    "### CASO 2"
   ]
  },
  {
   "cell_type": "code",
   "execution_count": 37,
   "metadata": {
    "collapsed": false
   },
   "outputs": [],
   "source": [
    "CHATs = [[1,2], [3,4]]"
   ]
  },
  {
   "cell_type": "code",
   "execution_count": 38,
   "metadata": {
    "collapsed": false
   },
   "outputs": [],
   "source": [
    "### CASO 2: desaparece una CETI\n",
    "case = 2\n",
    "ID = 0\n",
    "\n",
    "# actualizar el ID\n",
    "# t_now y ID son conocidos\n",
    "\n",
    "# eliminar la CETI a la lista de CETIs activas\n",
    "# [ID, x, y, t_hola, t_chau]\n",
    "CHATs.pop(ID)\n",
    "\n",
    "# rehacer el árbol\n",
    "tree = sp.cKDTree( data=CHATs ) \n",
    "\n",
    "# eliminar el tiempo actual\n",
    "t_forthcoming.remove_first()"
   ]
  },
  {
   "cell_type": "markdown",
   "metadata": {},
   "source": [
    "### CASO 3"
   ]
  },
  {
   "cell_type": "code",
   "execution_count": null,
   "metadata": {
    "collapsed": true
   },
   "outputs": [],
   "source": [
    "### CASO 3: se produce un contacto: CETI B comienza a ver a CETI A\n",
    "\n",
    "# eliminar la CETI a la lista de CETIs activas\n",
    "# [ID, x, y, t_hola, t_chau]\n",
    "ID = 1\n",
    "t_chau = t_now\n",
    "\n",
    "CETIs[ID] = [(x, y, t_hola, t_chau)]\n",
    "\n",
    "# rehacer el árbol\n",
    "M = np.column_stack([x, y])\n",
    "tree = sp.cKDTree( data=M ) \n",
    "\n",
    "\n",
    "# eliminar el tiempo actual\n",
    "t_next.remove_first()"
   ]
  },
  {
   "cell_type": "markdown",
   "metadata": {
    "collapsed": true
   },
   "source": [
    "### CASO 4"
   ]
  },
  {
   "cell_type": "code",
   "execution_count": 47,
   "metadata": {
    "collapsed": true
   },
   "outputs": [],
   "source": [
    "### CASO 4: se produce una baja de contacto: CETI A deja de ver a CETI B\n",
    "\n",
    "\n"
   ]
  },
  {
   "cell_type": "code",
   "execution_count": null,
   "metadata": {
    "collapsed": true
   },
   "outputs": [],
   "source": []
  },
  {
   "cell_type": "code",
   "execution_count": null,
   "metadata": {
    "collapsed": true
   },
   "outputs": [],
   "source": []
  },
  {
   "cell_type": "code",
   "execution_count": null,
   "metadata": {
    "collapsed": true
   },
   "outputs": [],
   "source": []
  },
  {
   "cell_type": "code",
   "execution_count": null,
   "metadata": {
    "collapsed": true
   },
   "outputs": [],
   "source": []
  },
  {
   "cell_type": "code",
   "execution_count": null,
   "metadata": {
    "collapsed": true
   },
   "outputs": [],
   "source": []
  },
  {
   "cell_type": "code",
   "execution_count": null,
   "metadata": {
    "collapsed": true
   },
   "outputs": [],
   "source": []
  },
  {
   "cell_type": "code",
   "execution_count": null,
   "metadata": {
    "collapsed": true
   },
   "outputs": [],
   "source": []
  },
  {
   "cell_type": "code",
   "execution_count": 39,
   "metadata": {
    "collapsed": false
   },
   "outputs": [],
   "source": [
    "acc = np.array([False]*Nstars)    # True:active communicating civilization, False: inactive/inhabited star\n",
    "t_a = np.zeros(Nstars)  # awakning\n",
    "t_b = np.zeros(Nstars)  # blackout\n",
    "N_listening = np.zeros(Nstars) # Number of CETI listening\n",
    "list_listening = np.zeros(Nstars) # list of CETI listening"
   ]
  },
  {
   "cell_type": "code",
   "execution_count": 40,
   "metadata": {
    "collapsed": true
   },
   "outputs": [],
   "source": [
    "t = 0.  # initializea\n",
    "tau = 5000 #yr, mean lifetime of a ETI\n",
    "lambd = 50000.  #yr, mean time until next CETI appear\n",
    "D = 5000.  # light year, maximum distance of detectable signals\n",
    "tmax = 1000000.  # maximo tiempo que dura la simulación"
   ]
  },
  {
   "cell_type": "code",
   "execution_count": 41,
   "metadata": {
    "collapsed": false
   },
   "outputs": [],
   "source": [
    "acc[21] = True\n",
    "t = 0.\n",
    "ts = []\n",
    "t_last_CETI = 0."
   ]
  },
  {
   "cell_type": "code",
   "execution_count": 42,
   "metadata": {
    "collapsed": false
   },
   "outputs": [],
   "source": [
    "def update_awakening(t, t_s_min_idx, t_b_min_idx):\n",
    "    \"\"\"Returns the next time at which a new CETI starts transmiting and listening\n",
    "        and updates the lists.\n",
    "    \"\"\"\n",
    "    \n",
    "    global t_last_CETI\n",
    "    global t_start\n",
    "    global acc\n",
    "    \n",
    "    t_last_CETI = t\n",
    "    i = np.random.choice(range(Nstars))\n",
    "    t_start[i] = t\n",
    "    t_s[i] = t + D\n",
    "    acc[i] = True\n",
    "    print 'wide awake!', t\n",
    "    \n",
    "    \n",
    "def FCS():\n",
    "    \"\"\"Returns the list of the distances from active CETIs and the First Communication Surfaces\"\"\"\n",
    "    \n",
    "def LCS():\n",
    "    \"\"\"Returns the list of the distances from active CETIs and the Last Communication Surfaces\"\"\"\n",
    "\n",
    "def update_blackout(t, t_s_min_idx, t_b_min_idx):\n",
    "    \"\"\"Returns the next time at which a CETI ends transmiting and listening\"\"\"\n",
    "    global t_end\n",
    "    \n",
    "    t_end[t_b_min_idx] = t\n",
    "    acc[t_b_min_idx] = False\n",
    "\n",
    "    print 'blackout', t\n",
    "    \n",
    "options = {0 : update_awakening, 1 : update_sphere, 2 : update_blackout}"
   ]
  },
  {
   "cell_type": "code",
   "execution_count": 33,
   "metadata": {
    "collapsed": true
   },
   "outputs": [],
   "source": [
    "def Next_awakening():\n",
    "    t_on_next = np.random.exponential(lambd, 1)\n",
    "    t_a_min = t_last_CETI + t_on_next\n",
    "    return(t_a_min)        \n",
    "\n",
    "def Next_MaxReach():\n",
    "    T_s = np.ma.array(t_s, mask=~acc)\n",
    "    t_s_min_idx = np.ma.where(T_s == T_s.min())\n",
    "    t_s_min = t_s[t_s_min_idx]\n",
    "    return(t_s_min)\n",
    "\n",
    "def Next_Blackout():\n",
    "    T_b = np.ma.array(t_b, mask=~acc)\n",
    "    t_b_min_idx = np.ma.where(T_b == T_b.min())\n",
    "    t_b_min = t_b[t_b_min_idx]\n",
    "    return(t_b_min)"
   ]
  },
  {
   "cell_type": "markdown",
   "metadata": {},
   "source": [
    "Test individual functions:"
   ]
  },
  {
   "cell_type": "code",
   "execution_count": 38,
   "metadata": {
    "collapsed": false
   },
   "outputs": [
    {
     "data": {
      "text/plain": [
       "array([ 63507.84045855])"
      ]
     },
     "execution_count": 38,
     "metadata": {},
     "output_type": "execute_result"
    }
   ],
   "source": [
    "t_a_min = Next_awakening()\n",
    "t_a_min"
   ]
  },
  {
   "cell_type": "code",
   "execution_count": 35,
   "metadata": {
    "collapsed": false
   },
   "outputs": [
    {
     "data": {
      "text/plain": [
       "array([ 0.])"
      ]
     },
     "execution_count": 35,
     "metadata": {},
     "output_type": "execute_result"
    }
   ],
   "source": [
    "Next_MaxReach()"
   ]
  },
  {
   "cell_type": "code",
   "execution_count": 36,
   "metadata": {
    "collapsed": false
   },
   "outputs": [
    {
     "data": {
      "text/plain": [
       "array([ 0.,  0.])"
      ]
     },
     "execution_count": 36,
     "metadata": {},
     "output_type": "execute_result"
    }
   ],
   "source": [
    "Next_Blackout()"
   ]
  },
  {
   "cell_type": "code",
   "execution_count": null,
   "metadata": {
    "collapsed": true
   },
   "outputs": [],
   "source": []
  },
  {
   "cell_type": "code",
   "execution_count": 37,
   "metadata": {
    "collapsed": false
   },
   "outputs": [
    {
     "ename": "KeyboardInterrupt",
     "evalue": "",
     "output_type": "error",
     "traceback": [
      "\u001b[1;31m---------------------------------------------------------------------------\u001b[0m",
      "\u001b[1;31mKeyboardInterrupt\u001b[0m                         Traceback (most recent call last)",
      "\u001b[1;32m<ipython-input-37-84a3c6c9b449>\u001b[0m in \u001b[0;36m<module>\u001b[1;34m()\u001b[0m\n\u001b[0;32m     14\u001b[0m     \u001b[1;31m# buscar el proximo tiempo de desaparicion de una CETI activa\u001b[0m\u001b[1;33m\u001b[0m\u001b[1;33m\u001b[0m\u001b[0m\n\u001b[0;32m     15\u001b[0m     \u001b[1;31m# completar la máscara con la lista de pares en contacto causal\u001b[0m\u001b[1;33m\u001b[0m\u001b[1;33m\u001b[0m\u001b[0m\n\u001b[1;32m---> 16\u001b[1;33m     \u001b[0mt_b_min\u001b[0m \u001b[1;33m=\u001b[0m \u001b[0mNext_Blackout\u001b[0m\u001b[1;33m(\u001b[0m\u001b[1;33m)\u001b[0m\u001b[1;33m\u001b[0m\u001b[0m\n\u001b[0m\u001b[0;32m     17\u001b[0m \u001b[1;33m\u001b[0m\u001b[0m\n\u001b[0;32m     18\u001b[0m \u001b[1;31m#     mins = np.array([t_a_min, t_s_min, t_b_min])\u001b[0m\u001b[1;33m\u001b[0m\u001b[1;33m\u001b[0m\u001b[0m\n",
      "\u001b[1;32m<ipython-input-33-fbe5b4f44050>\u001b[0m in \u001b[0;36mNext_Blackout\u001b[1;34m()\u001b[0m\n\u001b[0;32m     12\u001b[0m \u001b[1;32mdef\u001b[0m \u001b[0mNext_Blackout\u001b[0m\u001b[1;33m(\u001b[0m\u001b[1;33m)\u001b[0m\u001b[1;33m:\u001b[0m\u001b[1;33m\u001b[0m\u001b[0m\n\u001b[0;32m     13\u001b[0m     \u001b[0mT_b\u001b[0m \u001b[1;33m=\u001b[0m \u001b[0mnp\u001b[0m\u001b[1;33m.\u001b[0m\u001b[0mma\u001b[0m\u001b[1;33m.\u001b[0m\u001b[0marray\u001b[0m\u001b[1;33m(\u001b[0m\u001b[0mt_b\u001b[0m\u001b[1;33m,\u001b[0m \u001b[0mmask\u001b[0m\u001b[1;33m=\u001b[0m\u001b[1;33m~\u001b[0m\u001b[0macc\u001b[0m\u001b[1;33m)\u001b[0m\u001b[1;33m\u001b[0m\u001b[0m\n\u001b[1;32m---> 14\u001b[1;33m     \u001b[0mt_b_min_idx\u001b[0m \u001b[1;33m=\u001b[0m \u001b[0mnp\u001b[0m\u001b[1;33m.\u001b[0m\u001b[0mma\u001b[0m\u001b[1;33m.\u001b[0m\u001b[0mwhere\u001b[0m\u001b[1;33m(\u001b[0m\u001b[0mT_b\u001b[0m \u001b[1;33m==\u001b[0m \u001b[0mT_b\u001b[0m\u001b[1;33m.\u001b[0m\u001b[0mmin\u001b[0m\u001b[1;33m(\u001b[0m\u001b[1;33m)\u001b[0m\u001b[1;33m)\u001b[0m\u001b[1;33m\u001b[0m\u001b[0m\n\u001b[0m\u001b[0;32m     15\u001b[0m     \u001b[0mt_b_min\u001b[0m \u001b[1;33m=\u001b[0m \u001b[0mt_b\u001b[0m\u001b[1;33m[\u001b[0m\u001b[0mt_b_min_idx\u001b[0m\u001b[1;33m]\u001b[0m\u001b[1;33m\u001b[0m\u001b[0m\n\u001b[0;32m     16\u001b[0m     \u001b[1;32mreturn\u001b[0m\u001b[1;33m(\u001b[0m\u001b[0mt_b_min\u001b[0m\u001b[1;33m)\u001b[0m\u001b[1;33m\u001b[0m\u001b[0m\n",
      "\u001b[1;32m/home/marce/pytest/local/lib/python2.7/site-packages/numpy/ma/core.pyc\u001b[0m in \u001b[0;36mmin\u001b[1;34m(self, axis, out, fill_value)\u001b[0m\n\u001b[0;32m   5458\u001b[0m         \u001b[0mnewmask\u001b[0m \u001b[1;33m=\u001b[0m \u001b[0m_check_mask_axis\u001b[0m\u001b[1;33m(\u001b[0m\u001b[0m_mask\u001b[0m\u001b[1;33m,\u001b[0m \u001b[0maxis\u001b[0m\u001b[1;33m)\u001b[0m\u001b[1;33m\u001b[0m\u001b[0m\n\u001b[0;32m   5459\u001b[0m         \u001b[1;32mif\u001b[0m \u001b[0mfill_value\u001b[0m \u001b[1;32mis\u001b[0m \u001b[0mNone\u001b[0m\u001b[1;33m:\u001b[0m\u001b[1;33m\u001b[0m\u001b[0m\n\u001b[1;32m-> 5460\u001b[1;33m             \u001b[0mfill_value\u001b[0m \u001b[1;33m=\u001b[0m \u001b[0mminimum_fill_value\u001b[0m\u001b[1;33m(\u001b[0m\u001b[0mself\u001b[0m\u001b[1;33m)\u001b[0m\u001b[1;33m\u001b[0m\u001b[0m\n\u001b[0m\u001b[0;32m   5461\u001b[0m         \u001b[1;31m# No explicit output\u001b[0m\u001b[1;33m\u001b[0m\u001b[1;33m\u001b[0m\u001b[0m\n\u001b[0;32m   5462\u001b[0m         \u001b[1;32mif\u001b[0m \u001b[0mout\u001b[0m \u001b[1;32mis\u001b[0m \u001b[0mNone\u001b[0m\u001b[1;33m:\u001b[0m\u001b[1;33m\u001b[0m\u001b[0m\n",
      "\u001b[1;32m/home/marce/pytest/local/lib/python2.7/site-packages/numpy/ma/core.pyc\u001b[0m in \u001b[0;36mminimum_fill_value\u001b[1;34m(obj)\u001b[0m\n\u001b[0;32m    296\u001b[0m     \u001b[0merrmsg\u001b[0m \u001b[1;33m=\u001b[0m \u001b[1;34m\"Unsuitable type for calculating minimum.\"\u001b[0m\u001b[1;33m\u001b[0m\u001b[0m\n\u001b[0;32m    297\u001b[0m     \u001b[1;32mif\u001b[0m \u001b[0mhasattr\u001b[0m\u001b[1;33m(\u001b[0m\u001b[0mobj\u001b[0m\u001b[1;33m,\u001b[0m \u001b[1;34m'dtype'\u001b[0m\u001b[1;33m)\u001b[0m\u001b[1;33m:\u001b[0m\u001b[1;33m\u001b[0m\u001b[0m\n\u001b[1;32m--> 298\u001b[1;33m         \u001b[1;32mreturn\u001b[0m \u001b[0m_recursive_extremum_fill_value\u001b[0m\u001b[1;33m(\u001b[0m\u001b[0mobj\u001b[0m\u001b[1;33m.\u001b[0m\u001b[0mdtype\u001b[0m\u001b[1;33m,\u001b[0m \u001b[0mmin_filler\u001b[0m\u001b[1;33m)\u001b[0m\u001b[1;33m\u001b[0m\u001b[0m\n\u001b[0m\u001b[0;32m    299\u001b[0m     \u001b[1;32melif\u001b[0m \u001b[0misinstance\u001b[0m\u001b[1;33m(\u001b[0m\u001b[0mobj\u001b[0m\u001b[1;33m,\u001b[0m \u001b[0mfloat\u001b[0m\u001b[1;33m)\u001b[0m\u001b[1;33m:\u001b[0m\u001b[1;33m\u001b[0m\u001b[0m\n\u001b[0;32m    300\u001b[0m         \u001b[1;32mreturn\u001b[0m \u001b[0mmin_filler\u001b[0m\u001b[1;33m[\u001b[0m\u001b[0mntypes\u001b[0m\u001b[1;33m.\u001b[0m\u001b[0mtypeDict\u001b[0m\u001b[1;33m[\u001b[0m\u001b[1;34m'float_'\u001b[0m\u001b[1;33m]\u001b[0m\u001b[1;33m]\u001b[0m\u001b[1;33m\u001b[0m\u001b[0m\n",
      "\u001b[1;32m/home/marce/pytest/local/lib/python2.7/site-packages/numpy/ma/core.pyc\u001b[0m in \u001b[0;36m_recursive_extremum_fill_value\u001b[1;34m(ndtype, extremum)\u001b[0m\n\u001b[0;32m    243\u001b[0m             \u001b[0mdeflist\u001b[0m\u001b[1;33m.\u001b[0m\u001b[0mappend\u001b[0m\u001b[1;33m(\u001b[0m\u001b[0mfval\u001b[0m\u001b[1;33m)\u001b[0m\u001b[1;33m\u001b[0m\u001b[0m\n\u001b[0;32m    244\u001b[0m         \u001b[1;32mreturn\u001b[0m \u001b[0mtuple\u001b[0m\u001b[1;33m(\u001b[0m\u001b[0mdeflist\u001b[0m\u001b[1;33m)\u001b[0m\u001b[1;33m\u001b[0m\u001b[0m\n\u001b[1;32m--> 245\u001b[1;33m     \u001b[1;32mreturn\u001b[0m \u001b[0mextremum\u001b[0m\u001b[1;33m[\u001b[0m\u001b[0mndtype\u001b[0m\u001b[1;33m]\u001b[0m\u001b[1;33m\u001b[0m\u001b[0m\n\u001b[0m\u001b[0;32m    246\u001b[0m \u001b[1;33m\u001b[0m\u001b[0m\n\u001b[0;32m    247\u001b[0m \u001b[1;33m\u001b[0m\u001b[0m\n",
      "\u001b[1;32m/home/marce/pytest/local/lib/python2.7/site-packages/numpy/core/numerictypes.pyc\u001b[0m in \u001b[0;36m__getitem__\u001b[1;34m(self, obj)\u001b[0m\n\u001b[0;32m    773\u001b[0m \u001b[1;33m\u001b[0m\u001b[0m\n\u001b[0;32m    774\u001b[0m     \u001b[1;32mdef\u001b[0m \u001b[0m__getitem__\u001b[0m\u001b[1;33m(\u001b[0m\u001b[0mself\u001b[0m\u001b[1;33m,\u001b[0m \u001b[0mobj\u001b[0m\u001b[1;33m)\u001b[0m\u001b[1;33m:\u001b[0m\u001b[1;33m\u001b[0m\u001b[0m\n\u001b[1;32m--> 775\u001b[1;33m         \u001b[1;32mreturn\u001b[0m \u001b[0mdict\u001b[0m\u001b[1;33m.\u001b[0m\u001b[0m__getitem__\u001b[0m\u001b[1;33m(\u001b[0m\u001b[0mself\u001b[0m\u001b[1;33m,\u001b[0m \u001b[0mobj2sctype\u001b[0m\u001b[1;33m(\u001b[0m\u001b[0mobj\u001b[0m\u001b[1;33m)\u001b[0m\u001b[1;33m)\u001b[0m\u001b[1;33m\u001b[0m\u001b[0m\n\u001b[0m\u001b[0;32m    776\u001b[0m \u001b[1;33m\u001b[0m\u001b[0m\n\u001b[0;32m    777\u001b[0m \u001b[0mnbytes\u001b[0m \u001b[1;33m=\u001b[0m \u001b[0m_typedict\u001b[0m\u001b[1;33m(\u001b[0m\u001b[1;33m)\u001b[0m\u001b[1;33m\u001b[0m\u001b[0m\n",
      "\u001b[1;32m/home/marce/pytest/local/lib/python2.7/site-packages/numpy/core/numerictypes.pyc\u001b[0m in \u001b[0;36mobj2sctype\u001b[1;34m(rep, default)\u001b[0m\n\u001b[0;32m    645\u001b[0m     \u001b[1;32mexcept\u001b[0m \u001b[0mTypeError\u001b[0m\u001b[1;33m:\u001b[0m\u001b[1;33m\u001b[0m\u001b[0m\n\u001b[0;32m    646\u001b[0m         \u001b[1;32mpass\u001b[0m\u001b[1;33m\u001b[0m\u001b[0m\n\u001b[1;32m--> 647\u001b[1;33m     \u001b[1;32mif\u001b[0m \u001b[0misinstance\u001b[0m\u001b[1;33m(\u001b[0m\u001b[0mrep\u001b[0m\u001b[1;33m,\u001b[0m \u001b[0mdtype\u001b[0m\u001b[1;33m)\u001b[0m\u001b[1;33m:\u001b[0m\u001b[1;33m\u001b[0m\u001b[0m\n\u001b[0m\u001b[0;32m    648\u001b[0m         \u001b[1;32mreturn\u001b[0m \u001b[0mrep\u001b[0m\u001b[1;33m.\u001b[0m\u001b[0mtype\u001b[0m\u001b[1;33m\u001b[0m\u001b[0m\n\u001b[0;32m    649\u001b[0m     \u001b[1;32mif\u001b[0m \u001b[0misinstance\u001b[0m\u001b[1;33m(\u001b[0m\u001b[0mrep\u001b[0m\u001b[1;33m,\u001b[0m \u001b[0mtype\u001b[0m\u001b[1;33m)\u001b[0m\u001b[1;33m:\u001b[0m\u001b[1;33m\u001b[0m\u001b[0m\n",
      "\u001b[1;31mKeyboardInterrupt\u001b[0m: "
     ]
    }
   ],
   "source": [
    "t = 0.\n",
    "ts = []\n",
    "t_last_CETI = 0.\n",
    "\n",
    "while (t<tmax):\n",
    "    \n",
    "    # sortear el tiempo hasta que aparece la próxima CETI\n",
    "    t_a_min = Next_awakening()\n",
    "        \n",
    "    # buscar el proximo tiempo en que se alcanza la esfera\n",
    "    # completar la máscara con la lista de pares en contacto causal        \n",
    "    t_s_min = Next_MaxReach()\n",
    "    \n",
    "    # buscar el proximo tiempo de desaparicion de una CETI activa\n",
    "    # completar la máscara con la lista de pares en contacto causal    \n",
    "    t_b_min = Next_Blackout()\n",
    "        \n",
    "#     mins = np.array([t_a_min, t_s_min, t_b_min])    \n",
    "#     filt = mins > 0.\n",
    "#     mn = np.ma.array(mins, mask=~filt)    \n",
    "#     mn_idx = np.ma.where(mn == mn.min())[0][0]  # case to be considered for the next step\n",
    "        \n",
    "#     t = t + mins[mn_idx]\n",
    "#     ts.append(t)\n",
    "    \n",
    "#     # Update parameters\n",
    "#     options[mn_idx](t, t_s_min_idx, t_b_min_idx)    "
   ]
  },
  {
   "cell_type": "code",
   "execution_count": null,
   "metadata": {
    "collapsed": true
   },
   "outputs": [],
   "source": []
  },
  {
   "cell_type": "code",
   "execution_count": null,
   "metadata": {
    "collapsed": true
   },
   "outputs": [],
   "source": []
  }
 ],
 "metadata": {
  "kernelspec": {
   "display_name": "Python 2",
   "language": "python",
   "name": "python2"
  },
  "language_info": {
   "codemirror_mode": {
    "name": "ipython",
    "version": 2
   },
   "file_extension": ".py",
   "mimetype": "text/x-python",
   "name": "python",
   "nbconvert_exporter": "python",
   "pygments_lexer": "ipython2",
   "version": "2.7.6"
  }
 },
 "nbformat": 4,
 "nbformat_minor": 2
}
